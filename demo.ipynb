{
 "cells": [
  {
   "cell_type": "code",
   "execution_count": 63,
   "metadata": {},
   "outputs": [],
   "source": [
    "from pymodbus.client.sync import ModbusSerialClient"
   ]
  },
  {
   "cell_type": "code",
   "execution_count": 64,
   "metadata": {},
   "outputs": [],
   "source": [
    "client= ModbusSerialClient(method=\"rtu\",port=\"COM2\",stopbits=1,bytesize=8,parity='E',baudrate=9600)"
   ]
  },
  {
   "cell_type": "code",
   "execution_count": 65,
   "metadata": {},
   "outputs": [
    {
     "data": {
      "text/plain": [
       "False"
      ]
     },
     "execution_count": 65,
     "metadata": {},
     "output_type": "execute_result"
    }
   ],
   "source": [
    "client.connect()\n"
   ]
  },
  {
   "cell_type": "code",
   "execution_count": 66,
   "metadata": {},
   "outputs": [],
   "source": [
    "client.close()"
   ]
  },
  {
   "cell_type": "code",
   "execution_count": null,
   "metadata": {},
   "outputs": [],
   "source": []
  },
  {
   "cell_type": "code",
   "execution_count": 67,
   "metadata": {},
   "outputs": [
    {
     "ename": "ConnectionException",
     "evalue": "Modbus Error: [Connection] Failed to connect[ModbusSerialClient(rtu baud[9600])]",
     "output_type": "error",
     "traceback": [
      "\u001b[1;31m---------------------------------------------------------------------------\u001b[0m",
      "\u001b[1;31mConnectionException\u001b[0m                       Traceback (most recent call last)",
      "Cell \u001b[1;32mIn [67], line 1\u001b[0m\n\u001b[1;32m----> 1\u001b[0m result_\u001b[39m=\u001b[39m client\u001b[39m.\u001b[39;49mread_holding_registers(\u001b[39m0\u001b[39;49m,\u001b[39m10\u001b[39;49m,unit\u001b[39m=\u001b[39;49m\u001b[39m1\u001b[39;49m)\n\u001b[0;32m      2\u001b[0m \u001b[39mprint\u001b[39m(result_\u001b[39m.\u001b[39mregisters)\n",
      "File \u001b[1;32mc:\\Users\\Admin\\AppData\\Local\\Programs\\Python\\Python310\\lib\\site-packages\\pymodbus\\client\\common.py:114\u001b[0m, in \u001b[0;36mModbusClientMixin.read_holding_registers\u001b[1;34m(self, address, count, **kwargs)\u001b[0m\n\u001b[0;32m    106\u001b[0m \u001b[39m'''\u001b[39;00m\n\u001b[0;32m    107\u001b[0m \n\u001b[0;32m    108\u001b[0m \u001b[39m:param address: The starting address to read from\u001b[39;00m\n\u001b[1;32m   (...)\u001b[0m\n\u001b[0;32m    111\u001b[0m \u001b[39m:returns: A deferred response handle\u001b[39;00m\n\u001b[0;32m    112\u001b[0m \u001b[39m'''\u001b[39;00m\n\u001b[0;32m    113\u001b[0m request \u001b[39m=\u001b[39m ReadHoldingRegistersRequest(address, count, \u001b[39m*\u001b[39m\u001b[39m*\u001b[39mkwargs)\n\u001b[1;32m--> 114\u001b[0m \u001b[39mreturn\u001b[39;00m \u001b[39mself\u001b[39;49m\u001b[39m.\u001b[39;49mexecute(request)\n",
      "File \u001b[1;32mc:\\Users\\Admin\\AppData\\Local\\Programs\\Python\\Python310\\lib\\site-packages\\pymodbus\\client\\sync.py:108\u001b[0m, in \u001b[0;36mBaseModbusClient.execute\u001b[1;34m(self, request)\u001b[0m\n\u001b[0;32m    103\u001b[0m \u001b[39m\"\"\"\u001b[39;00m\n\u001b[0;32m    104\u001b[0m \u001b[39m:param request: The request to process\u001b[39;00m\n\u001b[0;32m    105\u001b[0m \u001b[39m:returns: The result of the request execution\u001b[39;00m\n\u001b[0;32m    106\u001b[0m \u001b[39m\"\"\"\u001b[39;00m\n\u001b[0;32m    107\u001b[0m \u001b[39mif\u001b[39;00m \u001b[39mnot\u001b[39;00m \u001b[39mself\u001b[39m\u001b[39m.\u001b[39mconnect():\n\u001b[1;32m--> 108\u001b[0m     \u001b[39mraise\u001b[39;00m ConnectionException(\u001b[39m\"\u001b[39m\u001b[39mFailed to connect[\u001b[39m\u001b[39m%s\u001b[39;00m\u001b[39m]\u001b[39m\u001b[39m\"\u001b[39m \u001b[39m%\u001b[39m (\u001b[39mself\u001b[39m\u001b[39m.\u001b[39m\u001b[39m__str__\u001b[39m()))\n\u001b[0;32m    109\u001b[0m \u001b[39mreturn\u001b[39;00m \u001b[39mself\u001b[39m\u001b[39m.\u001b[39mtransaction\u001b[39m.\u001b[39mexecute(request)\n",
      "\u001b[1;31mConnectionException\u001b[0m: Modbus Error: [Connection] Failed to connect[ModbusSerialClient(rtu baud[9600])]"
     ]
    }
   ],
   "source": [
    "result_= client.read_holding_registers(0,10,unit=1)\n",
    "print(result_.registers)"
   ]
  },
  {
   "cell_type": "code",
   "execution_count": null,
   "metadata": {},
   "outputs": [
    {
     "name": "stdout",
     "output_type": "stream",
     "text": [
      "WriteRegisterResponse 0 => 6\n"
     ]
    }
   ],
   "source": [
    "_result=client.write_register(0,6,unit=1)\n",
    "print(_result)"
   ]
  },
  {
   "cell_type": "code",
   "execution_count": null,
   "metadata": {},
   "outputs": [
    {
     "name": "stdout",
     "output_type": "stream",
     "text": [
      "COM1\n",
      "COM2\n"
     ]
    }
   ],
   "source": [
    "import serial.tools.list_ports\n",
    "ports = serial.tools.list_ports.comports()\n",
    "\n",
    "for port, desc, hwid in sorted(ports):\n",
    "        print(\"{}\".format(port))"
   ]
  }
 ],
 "metadata": {
  "kernelspec": {
   "display_name": "Python 3",
   "language": "python",
   "name": "python3"
  },
  "language_info": {
   "codemirror_mode": {
    "name": "ipython",
    "version": 3
   },
   "file_extension": ".py",
   "mimetype": "text/x-python",
   "name": "python",
   "nbconvert_exporter": "python",
   "pygments_lexer": "ipython3",
   "version": "3.10.7"
  },
  "orig_nbformat": 4,
  "vscode": {
   "interpreter": {
    "hash": "a42ccb73e7d9bfdf27e036f1d2b8b681e55fc0743cc5586bc2474d4a60f4b886"
   }
  }
 },
 "nbformat": 4,
 "nbformat_minor": 2
}
